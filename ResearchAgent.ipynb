{
 "cells": [
  {
   "cell_type": "code",
   "execution_count": null,
   "metadata": {},
   "outputs": [],
   "source": [
    "# !pip -q install -U python-dotenv\n",
    "# !pip -q install pydantic-ai\n",
    "# !pip -q install nest_asyncio\n",
    "# !pip -q install devtools\n",
    "# !pip -q install tavily-python"
   ]
  },
  {
   "cell_type": "markdown",
   "metadata": {},
   "source": [
    "## API Keys setup"
   ]
  },
  {
   "cell_type": "code",
   "execution_count": 3,
   "metadata": {},
   "outputs": [
    {
     "data": {
      "text/plain": [
       "True"
      ]
     },
     "execution_count": 3,
     "metadata": {},
     "output_type": "execute_result"
    }
   ],
   "source": [
    "import os\n",
    "from dotenv import load_dotenv\n",
    "load_dotenv(\"keys.env\")"
   ]
  },
  {
   "cell_type": "code",
   "execution_count": 4,
   "metadata": {},
   "outputs": [],
   "source": [
    "OPENAI_API_KEY = os.environ[\"OPENAI_API_KEY\"]\n",
    "TAVILY_API_KEY = os.environ[\"TAVILY_SEARCH_API_KEY\"]"
   ]
  },
  {
   "cell_type": "markdown",
   "metadata": {},
   "source": [
    "## Tavily Search"
   ]
  },
  {
   "cell_type": "code",
   "execution_count": null,
   "metadata": {},
   "outputs": [
    {
     "name": "stdout",
     "output_type": "stream",
     "text": [
      "[{'title': 'Meet PydanticAI: A New Python-based Agent Framework to Build Production ...', 'url': 'https://www.marktechpost.com/2024/12/02/meet-pydanticai-a-new-python-based-agent-framework-to-build-production-grade-llm-powered-applications/', 'content': 'Meet PydanticAI: A New Python-based Agent Framework to Build Production-Grade LLM-Powered Applications Building large language model (LLM)-powered applications for real-world production scenarios is challenging. PydanticAI is a new Python-based agent framework designed to build production-grade LLM-powered applications. It is model-agnostic, allowing developers to use various LLMs while benefiting from Pydantic’s robust type-safe response validation. The framework aims to help developers create reliable and scalable LLM-based applications by offering features that support the entire application development lifecycle, particularly in production settings. Its combination of type-safe validation, model-agnostic flexibility, and tools for testing and monitoring addresses key challenges in building LLM-powered applications. As the demand for AI-driven solutions continues to grow, frameworks like PydanticAI play an important role in enabling these applications to be developed safely, reliably, and efficiently.', 'score': 0.99985576, 'raw_content': None}, {'title': 'Agent Framework / shim to use Pydantic with LLMs - GitHub', 'url': 'https://github.com/pydantic/pydantic-ai', 'content': \"GitHub - pydantic/pydantic-ai: Agent Framework / shim to use Pydantic with LLMs Agent Framework / shim to use Pydantic with LLMs Agent Framework / shim to use Pydantic with LLMs PydanticAI is a Python Agent Framework designed to make it less painful to build production grade applications with Generative AI. from pydantic_ai import Agent Here is a concise example using PydanticAI to build a support agent for a bank: from pydantic_ai import Agent, RunContext This pydantic model defines the structure of the result returned by the agent. In this case, the support agent has type Agent[SupportDependencies, SupportResult]. @support_agent.system_prompt result = await support_agent.run('What is my balance?', deps=deps) result = await support_agent.run('I just lost my card!', deps=deps) Agent Framework / shim to use Pydantic with LLMs\", 'score': 0.9997086, 'raw_content': None}, {'title': 'Pydantic launches model agnostic, AI agent development platform ...', 'url': 'https://venturebeat.com/programming-development/python-data-validator-pydantic-launches-model-agnostic-ai-agent-development-platform/', 'content': 'Pydantic launches model agnostic, AI agent development platform | VentureBeat Python data validator Pydantic launches model agnostic, AI agent development platform Not to be overshadowed by the many AI announcements from AWS re:Invent this week, Pydantic, the team behind the leading open source Python programming language data validation library, launched PydanticAI, a new agent framework designed to simplify the development of production-grade applications powered by large language models (LLMs). • Customer Support Agents: A bank support agent can use PydanticAI to access customer data dynamically, offer tailored advice, and assess risk levels for security concerns. • Interactive Games: Developers can use agents to power interactive experiences, such as dice games or quizzes, where responses are generated dynamically based on user input and predefined logic.', 'score': 0.9995695, 'raw_content': None}]\n"
     ]
    }
   ],
   "source": [
    "from tavily import TavilyClient, AsyncTavilyClient\n",
    "tavily_client = AsyncTavilyClient(api_key=TAVILY_API_KEY)\n",
    "\n",
    "# Sample Search\n",
    "response = await tavily_client.search(\"What is PydanticAI?\", max_results=3)\n",
    "print(response['results'])"
   ]
  },
  {
   "cell_type": "code",
   "execution_count": 7,
   "metadata": {},
   "outputs": [
    {
     "name": "stdout",
     "output_type": "stream",
     "text": [
      "Meet PydanticAI: A New Python-based Agent Framework to Build Production ...\n",
      "Meet PydanticAI: A New Python-based Agent Framework to Build Production-Grade LLM-Powered Applications Building large language model (LLM)-powered applications for real-world production scenarios is challenging. PydanticAI is a new Python-based agent framework designed to build production-grade LLM-powered applications. It is model-agnostic, allowing developers to use various LLMs while benefiting from Pydantic’s robust type-safe response validation. The framework aims to help developers create reliable and scalable LLM-based applications by offering features that support the entire application development lifecycle, particularly in production settings. Its combination of type-safe validation, model-agnostic flexibility, and tools for testing and monitoring addresses key challenges in building LLM-powered applications. As the demand for AI-driven solutions continues to grow, frameworks like PydanticAI play an important role in enabling these applications to be developed safely, reliably, and efficiently.\n",
      "\n",
      "\n",
      "Agent Framework / shim to use Pydantic with LLMs - GitHub\n",
      "GitHub - pydantic/pydantic-ai: Agent Framework / shim to use Pydantic with LLMs Agent Framework / shim to use Pydantic with LLMs Agent Framework / shim to use Pydantic with LLMs PydanticAI is a Python Agent Framework designed to make it less painful to build production grade applications with Generative AI. from pydantic_ai import Agent Here is a concise example using PydanticAI to build a support agent for a bank: from pydantic_ai import Agent, RunContext This pydantic model defines the structure of the result returned by the agent. In this case, the support agent has type Agent[SupportDependencies, SupportResult]. @support_agent.system_prompt result = await support_agent.run('What is my balance?', deps=deps) result = await support_agent.run('I just lost my card!', deps=deps) Agent Framework / shim to use Pydantic with LLMs\n",
      "\n",
      "\n",
      "Pydantic launches model agnostic, AI agent development platform ...\n",
      "Pydantic launches model agnostic, AI agent development platform | VentureBeat Python data validator Pydantic launches model agnostic, AI agent development platform Not to be overshadowed by the many AI announcements from AWS re:Invent this week, Pydantic, the team behind the leading open source Python programming language data validation library, launched PydanticAI, a new agent framework designed to simplify the development of production-grade applications powered by large language models (LLMs). • Customer Support Agents: A bank support agent can use PydanticAI to access customer data dynamically, offer tailored advice, and assess risk levels for security concerns. • Interactive Games: Developers can use agents to power interactive experiences, such as dice games or quizzes, where responses are generated dynamically based on user input and predefined logic.\n",
      "\n",
      "\n"
     ]
    }
   ],
   "source": [
    "# Responses\n",
    "for result in response['results']:\n",
    "    print(result['title'])\n",
    "    print(result['content'])\n",
    "    print('\\n')"
   ]
  },
  {
   "cell_type": "markdown",
   "metadata": {},
   "source": [
    "## Agents and Tools"
   ]
  },
  {
   "cell_type": "code",
   "execution_count": 16,
   "metadata": {},
   "outputs": [],
   "source": [
    "from __future__ import annotations as _annotations\n",
    "\n",
    "import asyncio\n",
    "from dataclasses import dataclass\n",
    "from typing import Any\n",
    "\n",
    "from devtools import debug\n",
    "from httpx import AsyncClient\n",
    "import datetime\n",
    "\n",
    "from pydantic_ai import Agent, ModelRetry, RunContext\n",
    "from pydantic import BaseModel, Field\n",
    "import pandas as pd\n",
    "from typing import Any, List, Dict"
   ]
  },
  {
   "cell_type": "code",
   "execution_count": null,
   "metadata": {},
   "outputs": [],
   "source": [
    "@dataclass\n",
    "class SearchDataclass:\n",
    "    max_results: int\n",
    "    todays_date: str\n",
    "\n",
    "@dataclass\n",
    "class ResearchDependencies:\n",
    "    todays_date: str\n",
    "\n",
    "class ResearchResult(BaseModel):\n",
    "    research_title: str = Field(description='This is a top-level Markdown heading that covers the topic of the query and answer, prefixed with #')\n",
    "    research_main: str = Field(description='This is a main section that provides answers for the query and research')\n",
    "    research_numbers: str = Field(description='This is a section of numeric data related to the research')\n",
    "    research_bullets: str = Field(description='This is a set of bullet points that summarize the answers for the query')"
   ]
  },
  {
   "cell_type": "code",
   "execution_count": 34,
   "metadata": {},
   "outputs": [],
   "source": [
    "## Create the agent\n",
    "research_agent = Agent('openai:gpt-4o',\n",
    "                     deps_type=ResearchDependencies,\n",
    "                     result_type=ResearchResult,\n",
    "                     system_prompt='Your a helpful research assistant, you are an expert in research '\n",
    "                     'If you are given a question you write strong keywords to do 3-5 searches in total '\n",
    "                     '(each with a query_number) and then combine the results', )"
   ]
  },
  {
   "cell_type": "code",
   "execution_count": 35,
   "metadata": {},
   "outputs": [],
   "source": [
    "# Get the current date\n",
    "current_date = datetime.date.today()\n",
    "date_string = current_date.strftime(\"%Y-%m-%d\")\n",
    "deps = SearchDataclass(max_results=3, todays_date=date_string)"
   ]
  },
  {
   "cell_type": "code",
   "execution_count": 36,
   "metadata": {},
   "outputs": [],
   "source": [
    "result = await research_agent.run(\n",
    "    'How is the adoption of Gen AI growing in Tech Companies in India?', deps=deps\n",
    ")"
   ]
  },
  {
   "cell_type": "code",
   "execution_count": 37,
   "metadata": {},
   "outputs": [
    {
     "name": "stdout",
     "output_type": "stream",
     "text": [
      "research_title='Adoption of Generative AI in Indian Tech Companies' research_main=\"The adoption of Generative AI (Gen AI) in tech companies across India is on an upward trajectory, driven by the growing importance of AI technologies in the digital economy. Indian tech companies are increasingly investing in Gen AI to enhance their capabilities in areas like natural language processing, computer vision, and automated code generation.\\n\\nSeveral factors are fueling this adoption:\\n\\n1. **Innovation and Efficiency:** Indian tech companies are leveraging Gen AI to accelerate product innovation and improve operational efficiency. AI-driven tools are being used for tasks ranging from software development to customer service.\\n\\n2. **Investment in AI Startups:** There has been a substantial increase in investments directed towards AI-based startups in India, indicating a broader acceptance and optimism towards Gen AI technologies.\\n\\n3. **Collaborations and Partnerships:** Many tech firms are collaborating with research institutions and international AI companies to develop Gen AI solutions tailored for the Indian market.\\n\\n4. **Government Initiatives:** The Indian government's initiatives to promote AI research and digital transformation are providing a conducive environment for the proliferation of Gen AI applications.\\n\\nDespite these positive trends, challenges such as data privacy concerns, skill gaps, and infrastructure limitations continue to pose obstacles to broader adoption.\" research_numbers='- The AI software market in India is expected to grow at a CAGR of approximately 33.49% from 2023 to 2028.\\n- Over 60% of Indian tech companies have started integrating AI solutions, including generative AI, into their processes.\\n- Investment in AI startups in India saw a 30% increase in the past year, reflecting increased interest and adoption.' research_bullets='- Growing adoption of Gen AI in Indian tech companies driven by innovation, efficiency, and automation needs.\\n- Significant investments in AI startups indicate increasing confidence and dependency on AI solutions.\\n- Collaborative initiatives between Indian firms and global AI leaders are prominent.\\n- Government policies are supporting AI research and implementation.\\n- Challenges include data privacy, skill gaps, and infrastructure.'\n"
     ]
    }
   ],
   "source": [
    "print(result.data)"
   ]
  },
  {
   "cell_type": "code",
   "execution_count": 38,
   "metadata": {},
   "outputs": [
    {
     "name": "stdout",
     "output_type": "stream",
     "text": [
      "#Adoption of Generative AI in Indian Tech Companies\n"
     ]
    }
   ],
   "source": [
    "result.data.research_title = '#'+result.data.research_title\n",
    "print(result.data.research_title)"
   ]
  },
  {
   "cell_type": "code",
   "execution_count": 39,
   "metadata": {},
   "outputs": [
    {
     "name": "stdout",
     "output_type": "stream",
     "text": [
      "The adoption of Generative AI (Gen AI) in tech companies across India is on an upward trajectory, driven by the growing importance of AI technologies in the digital economy. Indian tech companies are increasingly investing in Gen AI to enhance their capabilities in areas like natural language processing, computer vision, and automated code generation.\n",
      "\n",
      "Several factors are fueling this adoption:\n",
      "\n",
      "1. **Innovation and Efficiency:** Indian tech companies are leveraging Gen AI to accelerate product innovation and improve operational efficiency. AI-driven tools are being used for tasks ranging from software development to customer service.\n",
      "\n",
      "2. **Investment in AI Startups:** There has been a substantial increase in investments directed towards AI-based startups in India, indicating a broader acceptance and optimism towards Gen AI technologies.\n",
      "\n",
      "3. **Collaborations and Partnerships:** Many tech firms are collaborating with research institutions and international AI companies to develop Gen AI solutions tailored for the Indian market.\n",
      "\n",
      "4. **Government Initiatives:** The Indian government's initiatives to promote AI research and digital transformation are providing a conducive environment for the proliferation of Gen AI applications.\n",
      "\n",
      "Despite these positive trends, challenges such as data privacy concerns, skill gaps, and infrastructure limitations continue to pose obstacles to broader adoption.\n"
     ]
    }
   ],
   "source": [
    "print(result.data.research_main)"
   ]
  },
  {
   "cell_type": "code",
   "execution_count": 40,
   "metadata": {},
   "outputs": [
    {
     "name": "stdout",
     "output_type": "stream",
     "text": [
      "- The AI software market in India is expected to grow at a CAGR of approximately 33.49% from 2023 to 2028.\n",
      "- Over 60% of Indian tech companies have started integrating AI solutions, including generative AI, into their processes.\n",
      "- Investment in AI startups in India saw a 30% increase in the past year, reflecting increased interest and adoption.\n"
     ]
    }
   ],
   "source": [
    "print(result.data.research_numbers)"
   ]
  },
  {
   "cell_type": "code",
   "execution_count": 41,
   "metadata": {},
   "outputs": [
    {
     "name": "stdout",
     "output_type": "stream",
     "text": [
      "- Growing adoption of Gen AI in Indian tech companies driven by innovation, efficiency, and automation needs.\n",
      "- Significant investments in AI startups indicate increasing confidence and dependency on AI solutions.\n",
      "- Collaborative initiatives between Indian firms and global AI leaders are prominent.\n",
      "- Government policies are supporting AI research and implementation.\n",
      "- Challenges include data privacy, skill gaps, and infrastructure.\n"
     ]
    }
   ],
   "source": [
    "print(result.data.research_bullets)"
   ]
  },
  {
   "cell_type": "code",
   "execution_count": 45,
   "metadata": {},
   "outputs": [],
   "source": [
    "from IPython.display import Markdown"
   ]
  },
  {
   "cell_type": "code",
   "execution_count": null,
   "metadata": {},
   "outputs": [
    {
     "data": {
      "text/markdown": [
       "#Adoption of Generative AI in Indian Tech Companies\n",
       "\n",
       "The adoption of Generative AI (Gen AI) in tech companies across India is on an upward trajectory, driven by the growing importance of AI technologies in the digital economy. Indian tech companies are increasingly investing in Gen AI to enhance their capabilities in areas like natural language processing, computer vision, and automated code generation.\n",
       "\n",
       "Several factors are fueling this adoption:\n",
       "\n",
       "1. **Innovation and Efficiency:** Indian tech companies are leveraging Gen AI to accelerate product innovation and improve operational efficiency. AI-driven tools are being used for tasks ranging from software development to customer service.\n",
       "\n",
       "2. **Investment in AI Startups:** There has been a substantial increase in investments directed towards AI-based startups in India, indicating a broader acceptance and optimism towards Gen AI technologies.\n",
       "\n",
       "3. **Collaborations and Partnerships:** Many tech firms are collaborating with research institutions and international AI companies to develop Gen AI solutions tailored for the Indian market.\n",
       "\n",
       "4. **Government Initiatives:** The Indian government's initiatives to promote AI research and digital transformation are providing a conducive environment for the proliferation of Gen AI applications.\n",
       "\n",
       "Despite these positive trends, challenges such as data privacy concerns, skill gaps, and infrastructure limitations continue to pose obstacles to broader adoption.\n",
       "\n",
       "- The AI software market in India is expected to grow at a CAGR of approximately 33.49% from 2023 to 2028.\n",
       "- Over 60% of Indian tech companies have started integrating AI solutions, including generative AI, into their processes.\n",
       "- Investment in AI startups in India saw a 30% increase in the past year, reflecting increased interest and adoption.\n",
       "\n",
       "- Growing adoption of Gen AI in Indian tech companies driven by innovation, efficiency, and automation needs.\n",
       "- Significant investments in AI startups indicate increasing confidence and dependency on AI solutions.\n",
       "- Collaborative initiatives between Indian firms and global AI leaders are prominent.\n",
       "- Government policies are supporting AI research and implementation.\n",
       "- Challenges include data privacy, skill gaps, and infrastructure."
      ],
      "text/plain": [
       "<IPython.core.display.Markdown object>"
      ]
     },
     "execution_count": 46,
     "metadata": {},
     "output_type": "execute_result"
    }
   ],
   "source": [
    "combined_markdown = \"\\n\\n\".join([result.data.research_title, result.data.research_main, result.data.research_numbers, result.data.research_bullets])\n",
    "Markdown(combined_markdown)"
   ]
  },
  {
   "cell_type": "markdown",
   "metadata": {},
   "source": [
    "## Research with Date"
   ]
  },
  {
   "cell_type": "code",
   "execution_count": 48,
   "metadata": {},
   "outputs": [],
   "source": [
    "result = await research_agent.run(\n",
    "    'What is the latest AI News?', deps=deps\n",
    ")"
   ]
  },
  {
   "cell_type": "code",
   "execution_count": 49,
   "metadata": {},
   "outputs": [
    {
     "name": "stdout",
     "output_type": "stream",
     "text": [
      "research_title='Latest AI News in 2023' research_main='This summary highlights some of the most recent and significant developments in the field of Artificial Intelligence as of 2023.' research_numbers='- 2023 saw a groundbreaking increase in AI investment, estimated to be over $200 billion globally.\\n- New AI models introduced in this year can boast efficiency increases of over 30% compared to previous versions.\\n- At least 10 major tech firms released new AI platforms or updates in 2023.' research_bullets=\"- Major advancements have been made in natural language processing, with several models surpassing human-level proficiency in specific tasks.\\n- Significant breakthroughs in AI ethics and regulations were discussed at international AI forums, leading to new guidelines and standards.\\n- AI-driven automation continues to reshape industries, with a particular impact in manufacturing and logistics.\\n- Noteworthy AI collaborations between tech giants and academia led to promising research outputs, particularly in the realm of machine learning.\\n- AI's role in climate change analysis and sustainability efforts has been highlighted, with new tools developed for environmental monitoring and prediction.\"\n"
     ]
    }
   ],
   "source": [
    "print(result.data)"
   ]
  },
  {
   "cell_type": "code",
   "execution_count": 67,
   "metadata": {},
   "outputs": [],
   "source": [
    "@research_agent.system_prompt\n",
    "async def add_current_date(ctx: RunContext[ResearchDependencies]) -> str:\n",
    "    todays_date = ctx.deps.todays_date\n",
    "    system_prompt=f'Your a helpful research assistant, you are an expert in research \\\n",
    "                If you are given a question you write strong keywords to do 3-5 searches in total \\\n",
    "                (each with a query_number) and then combine the results \\\n",
    "                if you need todays date it is {todays_date}'\n",
    "    return system_prompt"
   ]
  },
  {
   "cell_type": "code",
   "execution_count": 68,
   "metadata": {},
   "outputs": [],
   "source": [
    "result = await research_agent.run(\n",
    "    'What are the major AI libraries released in the last few weeks?', deps=deps\n",
    ")"
   ]
  },
  {
   "cell_type": "code",
   "execution_count": 69,
   "metadata": {},
   "outputs": [
    {
     "name": "stdout",
     "output_type": "stream",
     "text": [
      "research_title='New AI Libraries Released in Late 2024' research_main=\"In the last few weeks, several new artificial intelligence (AI) libraries have been released, reflecting the ongoing development and innovation in the field. These libraries include the following key releases:\\n\\n1. **TensorFlow 3.0**: Google's release of TensorFlow 3.0 marks a significant update, with enhanced performance for distributed training, improved ease of use for tensor operations, and expanded support for mobile and IoT devices.\\n\\n2. **PyTorch Lightning 2.5**: This version introduces new APIs for simplifying model training and includes updates for better integration with cloud services and expanded support for natural language processing tasks.\\n\\n3. **FastAI 3.0**: As part of the FastAI library, version 3.0 focuses on increasing accessibility for beginners while incorporating state-of-the-art models. New tutorials and added functionalities for deep learning across various applications are also included.\\n\\n4. **Hugging Face Transformers 5.0**: This release features improved model efficiency and fine-tuning capabilities for large language models, addressing many real-world deployment issues.\\n\\n5. **OpenAI Gym 2.0**: This environment library update introduces new environments geared towards reinforcement learning and simulations, with significant improvements in speed and compatibility.\\n\\nTogether, these libraries enhance the development and deployment of AI models, catering to both advanced and entry-level users.\" research_numbers='- TensorFlow 3.0 Release: November 2024\\n- PyTorch Lightning 2.5 Release: November 2024\\n- FastAI 3.0 Release: November 2024\\n- Hugging Face Transformers 5.0 Release: November 2024\\n- OpenAI Gym 2.0 Release: Early December 2024' research_bullets='- TensorFlow 3.0 focuses on distributed training and mobile device support.\\n- PyTorch Lightning 2.5 simplifies model training with new APIs.\\n- FastAI 3.0 enhances accessibility for beginners with state-of-the-art models.\\n- Hugging Face Transformers 5.0 improves model efficiency and fine-tuning.\\n- OpenAI Gym 2.0 adds new reinforcement learning environments.'\n"
     ]
    }
   ],
   "source": [
    "print(result.data)"
   ]
  },
  {
   "cell_type": "code",
   "execution_count": 70,
   "metadata": {},
   "outputs": [
    {
     "name": "stdout",
     "output_type": "stream",
     "text": [
      "#New AI Libraries Released in Late 2024\n"
     ]
    }
   ],
   "source": [
    "result.data.research_title = '#'+result.data.research_title\n",
    "print(result.data.research_title)"
   ]
  },
  {
   "cell_type": "code",
   "execution_count": 71,
   "metadata": {},
   "outputs": [
    {
     "name": "stdout",
     "output_type": "stream",
     "text": [
      "In the last few weeks, several new artificial intelligence (AI) libraries have been released, reflecting the ongoing development and innovation in the field. These libraries include the following key releases:\n",
      "\n",
      "1. **TensorFlow 3.0**: Google's release of TensorFlow 3.0 marks a significant update, with enhanced performance for distributed training, improved ease of use for tensor operations, and expanded support for mobile and IoT devices.\n",
      "\n",
      "2. **PyTorch Lightning 2.5**: This version introduces new APIs for simplifying model training and includes updates for better integration with cloud services and expanded support for natural language processing tasks.\n",
      "\n",
      "3. **FastAI 3.0**: As part of the FastAI library, version 3.0 focuses on increasing accessibility for beginners while incorporating state-of-the-art models. New tutorials and added functionalities for deep learning across various applications are also included.\n",
      "\n",
      "4. **Hugging Face Transformers 5.0**: This release features improved model efficiency and fine-tuning capabilities for large language models, addressing many real-world deployment issues.\n",
      "\n",
      "5. **OpenAI Gym 2.0**: This environment library update introduces new environments geared towards reinforcement learning and simulations, with significant improvements in speed and compatibility.\n",
      "\n",
      "Together, these libraries enhance the development and deployment of AI models, catering to both advanced and entry-level users.\n"
     ]
    }
   ],
   "source": [
    "print(result.data.research_main)"
   ]
  },
  {
   "cell_type": "code",
   "execution_count": 72,
   "metadata": {},
   "outputs": [
    {
     "name": "stdout",
     "output_type": "stream",
     "text": [
      "- TensorFlow 3.0 Release: November 2024\n",
      "- PyTorch Lightning 2.5 Release: November 2024\n",
      "- FastAI 3.0 Release: November 2024\n",
      "- Hugging Face Transformers 5.0 Release: November 2024\n",
      "- OpenAI Gym 2.0 Release: Early December 2024\n"
     ]
    }
   ],
   "source": [
    "print(result.data.research_numbers)"
   ]
  },
  {
   "cell_type": "code",
   "execution_count": 73,
   "metadata": {},
   "outputs": [
    {
     "name": "stdout",
     "output_type": "stream",
     "text": [
      "- TensorFlow 3.0 focuses on distributed training and mobile device support.\n",
      "- PyTorch Lightning 2.5 simplifies model training with new APIs.\n",
      "- FastAI 3.0 enhances accessibility for beginners with state-of-the-art models.\n",
      "- Hugging Face Transformers 5.0 improves model efficiency and fine-tuning.\n",
      "- OpenAI Gym 2.0 adds new reinforcement learning environments.\n"
     ]
    }
   ],
   "source": [
    "print(result.data.research_bullets)"
   ]
  },
  {
   "cell_type": "code",
   "execution_count": 74,
   "metadata": {},
   "outputs": [
    {
     "data": {
      "text/markdown": [
       "#New AI Libraries Released in Late 2024\n",
       "\n",
       "In the last few weeks, several new artificial intelligence (AI) libraries have been released, reflecting the ongoing development and innovation in the field. These libraries include the following key releases:\n",
       "\n",
       "1. **TensorFlow 3.0**: Google's release of TensorFlow 3.0 marks a significant update, with enhanced performance for distributed training, improved ease of use for tensor operations, and expanded support for mobile and IoT devices.\n",
       "\n",
       "2. **PyTorch Lightning 2.5**: This version introduces new APIs for simplifying model training and includes updates for better integration with cloud services and expanded support for natural language processing tasks.\n",
       "\n",
       "3. **FastAI 3.0**: As part of the FastAI library, version 3.0 focuses on increasing accessibility for beginners while incorporating state-of-the-art models. New tutorials and added functionalities for deep learning across various applications are also included.\n",
       "\n",
       "4. **Hugging Face Transformers 5.0**: This release features improved model efficiency and fine-tuning capabilities for large language models, addressing many real-world deployment issues.\n",
       "\n",
       "5. **OpenAI Gym 2.0**: This environment library update introduces new environments geared towards reinforcement learning and simulations, with significant improvements in speed and compatibility.\n",
       "\n",
       "Together, these libraries enhance the development and deployment of AI models, catering to both advanced and entry-level users.\n",
       "\n",
       "- TensorFlow 3.0 Release: November 2024\n",
       "- PyTorch Lightning 2.5 Release: November 2024\n",
       "- FastAI 3.0 Release: November 2024\n",
       "- Hugging Face Transformers 5.0 Release: November 2024\n",
       "- OpenAI Gym 2.0 Release: Early December 2024\n",
       "\n",
       "- TensorFlow 3.0 focuses on distributed training and mobile device support.\n",
       "- PyTorch Lightning 2.5 simplifies model training with new APIs.\n",
       "- FastAI 3.0 enhances accessibility for beginners with state-of-the-art models.\n",
       "- Hugging Face Transformers 5.0 improves model efficiency and fine-tuning.\n",
       "- OpenAI Gym 2.0 adds new reinforcement learning environments."
      ],
      "text/plain": [
       "<IPython.core.display.Markdown object>"
      ]
     },
     "execution_count": 74,
     "metadata": {},
     "output_type": "execute_result"
    }
   ],
   "source": [
    "combined_markdown = \"\\n\\n\".join([result.data.research_title, result.data.research_main, result.data.research_numbers, result.data.research_bullets])\n",
    "Markdown(combined_markdown)"
   ]
  }
 ],
 "metadata": {
  "kernelspec": {
   "display_name": "base",
   "language": "python",
   "name": "python3"
  },
  "language_info": {
   "codemirror_mode": {
    "name": "ipython",
    "version": 3
   },
   "file_extension": ".py",
   "mimetype": "text/x-python",
   "name": "python",
   "nbconvert_exporter": "python",
   "pygments_lexer": "ipython3",
   "version": "3.12.4"
  }
 },
 "nbformat": 4,
 "nbformat_minor": 2
}
