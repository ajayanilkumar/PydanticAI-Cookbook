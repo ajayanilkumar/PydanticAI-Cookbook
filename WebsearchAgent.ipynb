{
 "cells": [
  {
   "cell_type": "code",
   "execution_count": null,
   "metadata": {},
   "outputs": [],
   "source": [
    "# !pip -q install -U python-dotenv\n",
    "# !pip -q install pydantic-ai\n",
    "# !pip -q install nest_asyncio\n",
    "# !pip -q install devtools\n",
    "# !pip -q install tavily-python"
   ]
  },
  {
   "cell_type": "markdown",
   "metadata": {},
   "source": [
    "## API Keys setup"
   ]
  },
  {
   "cell_type": "code",
   "execution_count": 1,
   "metadata": {},
   "outputs": [
    {
     "data": {
      "text/plain": [
       "True"
      ]
     },
     "execution_count": 1,
     "metadata": {},
     "output_type": "execute_result"
    }
   ],
   "source": [
    "import os\n",
    "from dotenv import load_dotenv\n",
    "load_dotenv(\"keys.env\")"
   ]
  },
  {
   "cell_type": "code",
   "execution_count": 2,
   "metadata": {},
   "outputs": [],
   "source": [
    "OPENAI_API_KEY = os.environ[\"OPENAI_API_KEY\"]\n",
    "TAVILY_API_KEY = os.environ[\"TAVILY_SEARCH_API_KEY\"]"
   ]
  },
  {
   "cell_type": "markdown",
   "metadata": {},
   "source": [
    "## Tavily Search"
   ]
  },
  {
   "cell_type": "code",
   "execution_count": 4,
   "metadata": {},
   "outputs": [
    {
     "name": "stdout",
     "output_type": "stream",
     "text": [
      "[{'title': 'PydanticAI Introduction: What is PydanticAI about', 'url': 'https://aipure.ai/products/pydantic-ai/introduction', 'content': \"PydanticAI is a Python Agent Framework that streamlines the development of production-grade AI applications by combining Pydantic's powerful data validation with LLM integration, offering type-safe dependency injection and model-agnostic support. PydanticAI is an innovative agent framework developed by the team behind Pydantic, designed to simplify the process of building production-grade applications with Generative AI. The framework also supports streamed responses and can validate structured responses using Pydantic models, making it particularly powerful for complex AI applications that require reliable data handling. CopilotForXcode is an Xcode Source Editor Extension that integrates GitHub Copilot, Codeium, and ChatGPT to provide AI-powered code suggestions, chat assistance, and prompt-to-code functionality within Xcode. BLACKBOX AI is an AI-powered coding assistant that helps developers write, debug, and optimize code faster through code generation, chat, and search capabilities.\", 'score': 0.99987566, 'raw_content': None}, {'title': 'Meet PydanticAI: A New Python-based Agent Framework to Build Production ...', 'url': 'https://www.marktechpost.com/2024/12/02/meet-pydanticai-a-new-python-based-agent-framework-to-build-production-grade-llm-powered-applications/', 'content': 'Meet PydanticAI: A New Python-based Agent Framework to Build Production-Grade LLM-Powered Applications Building large language model (LLM)-powered applications for real-world production scenarios is challenging. PydanticAI is a new Python-based agent framework designed to build production-grade LLM-powered applications. It is model-agnostic, allowing developers to use various LLMs while benefiting from Pydantic’s robust type-safe response validation. The framework aims to help developers create reliable and scalable LLM-based applications by offering features that support the entire application development lifecycle, particularly in production settings. Its combination of type-safe validation, model-agnostic flexibility, and tools for testing and monitoring addresses key challenges in building LLM-powered applications. As the demand for AI-driven solutions continues to grow, frameworks like PydanticAI play an important role in enabling these applications to be developed safely, reliably, and efficiently.', 'score': 0.99985576, 'raw_content': None}, {'title': 'Agent Framework / shim to use Pydantic with LLMs - GitHub', 'url': 'https://github.com/pydantic/pydantic-ai', 'content': \"GitHub - pydantic/pydantic-ai: Agent Framework / shim to use Pydantic with LLMs Agent Framework / shim to use Pydantic with LLMs Agent Framework / shim to use Pydantic with LLMs PydanticAI is a Python Agent Framework designed to make it less painful to build production grade applications with Generative AI. from pydantic_ai import Agent Here is a concise example using PydanticAI to build a support agent for a bank: from pydantic_ai import Agent, RunContext This pydantic model defines the structure of the result returned by the agent. In this case, the support agent has type Agent[SupportDependencies, SupportResult]. @support_agent.system_prompt result = await support_agent.run('What is my balance?', deps=deps) result = await support_agent.run('I just lost my card!', deps=deps) Agent Framework / shim to use Pydantic with LLMs\", 'score': 0.9997086, 'raw_content': None}]\n"
     ]
    }
   ],
   "source": [
    "from tavily import TavilyClient, AsyncTavilyClient\n",
    "tavily_client = AsyncTavilyClient(api_key=TAVILY_API_KEY)\n",
    "\n",
    "# Sample Search\n",
    "response = await tavily_client.search(\"What is PydanticAI?\", max_results=3)\n",
    "print(response['results'])"
   ]
  },
  {
   "cell_type": "code",
   "execution_count": 5,
   "metadata": {},
   "outputs": [
    {
     "name": "stdout",
     "output_type": "stream",
     "text": [
      "PydanticAI Introduction: What is PydanticAI about\n",
      "PydanticAI is a Python Agent Framework that streamlines the development of production-grade AI applications by combining Pydantic's powerful data validation with LLM integration, offering type-safe dependency injection and model-agnostic support. PydanticAI is an innovative agent framework developed by the team behind Pydantic, designed to simplify the process of building production-grade applications with Generative AI. The framework also supports streamed responses and can validate structured responses using Pydantic models, making it particularly powerful for complex AI applications that require reliable data handling. CopilotForXcode is an Xcode Source Editor Extension that integrates GitHub Copilot, Codeium, and ChatGPT to provide AI-powered code suggestions, chat assistance, and prompt-to-code functionality within Xcode. BLACKBOX AI is an AI-powered coding assistant that helps developers write, debug, and optimize code faster through code generation, chat, and search capabilities.\n",
      "\n",
      "\n",
      "Meet PydanticAI: A New Python-based Agent Framework to Build Production ...\n",
      "Meet PydanticAI: A New Python-based Agent Framework to Build Production-Grade LLM-Powered Applications Building large language model (LLM)-powered applications for real-world production scenarios is challenging. PydanticAI is a new Python-based agent framework designed to build production-grade LLM-powered applications. It is model-agnostic, allowing developers to use various LLMs while benefiting from Pydantic’s robust type-safe response validation. The framework aims to help developers create reliable and scalable LLM-based applications by offering features that support the entire application development lifecycle, particularly in production settings. Its combination of type-safe validation, model-agnostic flexibility, and tools for testing and monitoring addresses key challenges in building LLM-powered applications. As the demand for AI-driven solutions continues to grow, frameworks like PydanticAI play an important role in enabling these applications to be developed safely, reliably, and efficiently.\n",
      "\n",
      "\n",
      "Agent Framework / shim to use Pydantic with LLMs - GitHub\n",
      "GitHub - pydantic/pydantic-ai: Agent Framework / shim to use Pydantic with LLMs Agent Framework / shim to use Pydantic with LLMs Agent Framework / shim to use Pydantic with LLMs PydanticAI is a Python Agent Framework designed to make it less painful to build production grade applications with Generative AI. from pydantic_ai import Agent Here is a concise example using PydanticAI to build a support agent for a bank: from pydantic_ai import Agent, RunContext This pydantic model defines the structure of the result returned by the agent. In this case, the support agent has type Agent[SupportDependencies, SupportResult]. @support_agent.system_prompt result = await support_agent.run('What is my balance?', deps=deps) result = await support_agent.run('I just lost my card!', deps=deps) Agent Framework / shim to use Pydantic with LLMs\n",
      "\n",
      "\n"
     ]
    }
   ],
   "source": [
    "# Responses\n",
    "for result in response['results']:\n",
    "    print(result['title'])\n",
    "    print(result['content'])\n",
    "    print('\\n')"
   ]
  },
  {
   "cell_type": "markdown",
   "metadata": {},
   "source": [
    "## Agents and Tools"
   ]
  },
  {
   "cell_type": "code",
   "execution_count": 6,
   "metadata": {},
   "outputs": [],
   "source": [
    "from __future__ import annotations as _annotations\n",
    "\n",
    "import asyncio\n",
    "from dataclasses import dataclass\n",
    "from typing import Any\n",
    "\n",
    "from devtools import debug\n",
    "from httpx import AsyncClient\n",
    "import datetime\n",
    "\n",
    "from pydantic_ai import Agent, ModelRetry, RunContext\n",
    "from pydantic import BaseModel, Field\n",
    "import pandas as pd\n",
    "from typing import Any, List, Dict"
   ]
  },
  {
   "cell_type": "code",
   "execution_count": 7,
   "metadata": {},
   "outputs": [],
   "source": [
    "@dataclass\n",
    "class SearchDataclass:\n",
    "    max_results: int\n",
    "    todays_date: str\n",
    "\n",
    "@dataclass\n",
    "class ResearchDependencies:\n",
    "    todays_date: str\n",
    "\n",
    "class ResearchResult(BaseModel):\n",
    "    research_title: str = Field(description='This is a top-level Markdown heading that covers the topic of the query and answer, prefixed with #')\n",
    "    research_main: str = Field(description='This is a main section that provides answers for the query and research')\n",
    "    research_numbers: str = Field(description='This is a section of numeric data related to the research')\n",
    "    research_bullets: str = Field(description='This is a set of bullet points that summarize the answers for the query')"
   ]
  },
  {
   "cell_type": "code",
   "execution_count": 8,
   "metadata": {},
   "outputs": [],
   "source": [
    "## Create the agent\n",
    "research_agent = Agent('openai:gpt-4o',\n",
    "                     deps_type=ResearchDependencies,\n",
    "                     result_type=ResearchResult,\n",
    "                     system_prompt='Your a helpful research assistant, you are an expert in research '\n",
    "                     'If you are given a question you write strong keywords to do 3-5 searches in total '\n",
    "                     '(each with a query_number) and then combine the results', )"
   ]
  },
  {
   "cell_type": "code",
   "execution_count": 9,
   "metadata": {},
   "outputs": [],
   "source": [
    "@research_agent.tool #Tavily\n",
    "async def get_search(search_data:RunContext[SearchDataclass],query: str, query_number: int) -> dict[str, Any]:\n",
    "    \"\"\"Get the search for a keyword query.\n",
    "\n",
    "    Args:\n",
    "        query: keywords to search.\n",
    "    \"\"\"\n",
    "    print(f\"Search query {query_number}: {query}\")\n",
    "    max_results = search_data.deps.max_results\n",
    "    results = await tavily_client.get_search_context(query=query, max_results=max_results)\n",
    "\n",
    "    return results"
   ]
  },
  {
   "cell_type": "code",
   "execution_count": 10,
   "metadata": {},
   "outputs": [],
   "source": [
    "# Get the current date\n",
    "current_date = datetime.date.today()\n",
    "date_string = current_date.strftime(\"%Y-%m-%d\")\n",
    "deps = SearchDataclass(max_results=3, todays_date=date_string)"
   ]
  },
  {
   "cell_type": "code",
   "execution_count": 11,
   "metadata": {},
   "outputs": [
    {
     "name": "stdout",
     "output_type": "stream",
     "text": [
      "Search query 1: Gen AI adoption in tech companies India 2023\n",
      "Search query 2: Growth of generative AI in Indian technology sector\n",
      "Search query 3: Technology companies in India using generative AI\n"
     ]
    }
   ],
   "source": [
    "result = await research_agent.run(\n",
    "    'How is the adoption of Gen AI growing in Tech Companies in India?', deps=deps\n",
    ")"
   ]
  },
  {
   "cell_type": "code",
   "execution_count": 12,
   "metadata": {},
   "outputs": [
    {
     "name": "stdout",
     "output_type": "stream",
     "text": [
      "research_title='Adoption of Generative AI in Indian Tech Companies' research_main=\"The adoption of Generative AI (Gen AI) in tech companies across India has seen significant growth in recent years. As of 2023, India is home to over 60 startups focused primarily on Gen AI, reflecting a dynamic and rapidly evolving sector. The market's momentum is propelled by easier-to-use tools aimed at cost reduction and process automation, as identified in the 2023 IBM Global AI Adoption Index. Active deployment of AI technologies stands at approximately 59% among large enterprises in India, marking the country's leading position in adoption rates. This expansion is not only limited to startups but also includes large enterprises that are increasingly embedding Gen AI into their operational infrastructure.\\n\\nThe Generative AI market in India is forecasted to grow substantially, with an estimated growth rate of 46.32% from 2024 to 2030, reaching a market volume of $6.28 billion. This growth is expected to transform various sectors, with significant financial impacts forecasted, particularly within technology services. Indian enterprises view Gen AI as a critical component in accelerating digital transformation, revealing substantial economic opportunities. However, challenges such as data privacy concerns and the high computational costs associated with Gen AI deployment persist.\\n\\nFurthermore, organizations recognized as AI high performers have been quick to adopt Gen AI tools, prioritizing new business generation and enhancement of existing services through AI integration. This rapid adoption is reflected in their ongoing investment in research and development, as well as workforce upskilling initiatives, responding to the industry's pressing demand for skilled personnel.\" research_numbers='- Over 60 Gen AI-focused startups in India as of 2023.\\n- 59% of large Indian enterprises have actively deployed AI.\\n- Generative AI market projected to grow by 46.32% (2024-2030).\\n- Expected market size of Gen AI in India to reach $6.28 billion by 2030.' research_bullets=\"- Significant growth in Gen AI startups in India, totaling over 60.\\n- High rate of AI deployment among large enterprises at 59%.\\n- Forecasted 46.32% growth rate in India's Gen AI market through 2030.\\n- Potential market volume of $6.28 billion by 2030.\\n- Focus on digital transformation and R&D investment in AI by Indian companies.\"\n"
     ]
    }
   ],
   "source": [
    "print(result.data)"
   ]
  },
  {
   "cell_type": "code",
   "execution_count": 13,
   "metadata": {},
   "outputs": [
    {
     "name": "stdout",
     "output_type": "stream",
     "text": [
      "#Adoption of Generative AI in Indian Tech Companies\n"
     ]
    }
   ],
   "source": [
    "result.data.research_title = '#'+result.data.research_title\n",
    "print(result.data.research_title)"
   ]
  },
  {
   "cell_type": "code",
   "execution_count": 14,
   "metadata": {},
   "outputs": [
    {
     "name": "stdout",
     "output_type": "stream",
     "text": [
      "The adoption of Generative AI (Gen AI) in tech companies across India has seen significant growth in recent years. As of 2023, India is home to over 60 startups focused primarily on Gen AI, reflecting a dynamic and rapidly evolving sector. The market's momentum is propelled by easier-to-use tools aimed at cost reduction and process automation, as identified in the 2023 IBM Global AI Adoption Index. Active deployment of AI technologies stands at approximately 59% among large enterprises in India, marking the country's leading position in adoption rates. This expansion is not only limited to startups but also includes large enterprises that are increasingly embedding Gen AI into their operational infrastructure.\n",
      "\n",
      "The Generative AI market in India is forecasted to grow substantially, with an estimated growth rate of 46.32% from 2024 to 2030, reaching a market volume of $6.28 billion. This growth is expected to transform various sectors, with significant financial impacts forecasted, particularly within technology services. Indian enterprises view Gen AI as a critical component in accelerating digital transformation, revealing substantial economic opportunities. However, challenges such as data privacy concerns and the high computational costs associated with Gen AI deployment persist.\n",
      "\n",
      "Furthermore, organizations recognized as AI high performers have been quick to adopt Gen AI tools, prioritizing new business generation and enhancement of existing services through AI integration. This rapid adoption is reflected in their ongoing investment in research and development, as well as workforce upskilling initiatives, responding to the industry's pressing demand for skilled personnel.\n"
     ]
    }
   ],
   "source": [
    "print(result.data.research_main)"
   ]
  },
  {
   "cell_type": "code",
   "execution_count": 15,
   "metadata": {},
   "outputs": [
    {
     "name": "stdout",
     "output_type": "stream",
     "text": [
      "- Over 60 Gen AI-focused startups in India as of 2023.\n",
      "- 59% of large Indian enterprises have actively deployed AI.\n",
      "- Generative AI market projected to grow by 46.32% (2024-2030).\n",
      "- Expected market size of Gen AI in India to reach $6.28 billion by 2030.\n"
     ]
    }
   ],
   "source": [
    "print(result.data.research_numbers)"
   ]
  },
  {
   "cell_type": "code",
   "execution_count": 16,
   "metadata": {},
   "outputs": [
    {
     "name": "stdout",
     "output_type": "stream",
     "text": [
      "- Significant growth in Gen AI startups in India, totaling over 60.\n",
      "- High rate of AI deployment among large enterprises at 59%.\n",
      "- Forecasted 46.32% growth rate in India's Gen AI market through 2030.\n",
      "- Potential market volume of $6.28 billion by 2030.\n",
      "- Focus on digital transformation and R&D investment in AI by Indian companies.\n"
     ]
    }
   ],
   "source": [
    "print(result.data.research_bullets)"
   ]
  },
  {
   "cell_type": "code",
   "execution_count": 17,
   "metadata": {},
   "outputs": [],
   "source": [
    "from IPython.display import Markdown"
   ]
  },
  {
   "cell_type": "code",
   "execution_count": 18,
   "metadata": {},
   "outputs": [
    {
     "data": {
      "text/markdown": [
       "#Adoption of Generative AI in Indian Tech Companies\n",
       "\n",
       "The adoption of Generative AI (Gen AI) in tech companies across India has seen significant growth in recent years. As of 2023, India is home to over 60 startups focused primarily on Gen AI, reflecting a dynamic and rapidly evolving sector. The market's momentum is propelled by easier-to-use tools aimed at cost reduction and process automation, as identified in the 2023 IBM Global AI Adoption Index. Active deployment of AI technologies stands at approximately 59% among large enterprises in India, marking the country's leading position in adoption rates. This expansion is not only limited to startups but also includes large enterprises that are increasingly embedding Gen AI into their operational infrastructure.\n",
       "\n",
       "The Generative AI market in India is forecasted to grow substantially, with an estimated growth rate of 46.32% from 2024 to 2030, reaching a market volume of $6.28 billion. This growth is expected to transform various sectors, with significant financial impacts forecasted, particularly within technology services. Indian enterprises view Gen AI as a critical component in accelerating digital transformation, revealing substantial economic opportunities. However, challenges such as data privacy concerns and the high computational costs associated with Gen AI deployment persist.\n",
       "\n",
       "Furthermore, organizations recognized as AI high performers have been quick to adopt Gen AI tools, prioritizing new business generation and enhancement of existing services through AI integration. This rapid adoption is reflected in their ongoing investment in research and development, as well as workforce upskilling initiatives, responding to the industry's pressing demand for skilled personnel.\n",
       "\n",
       "- Over 60 Gen AI-focused startups in India as of 2023.\n",
       "- 59% of large Indian enterprises have actively deployed AI.\n",
       "- Generative AI market projected to grow by 46.32% (2024-2030).\n",
       "- Expected market size of Gen AI in India to reach $6.28 billion by 2030.\n",
       "\n",
       "- Significant growth in Gen AI startups in India, totaling over 60.\n",
       "- High rate of AI deployment among large enterprises at 59%.\n",
       "- Forecasted 46.32% growth rate in India's Gen AI market through 2030.\n",
       "- Potential market volume of $6.28 billion by 2030.\n",
       "- Focus on digital transformation and R&D investment in AI by Indian companies."
      ],
      "text/plain": [
       "<IPython.core.display.Markdown object>"
      ]
     },
     "execution_count": 18,
     "metadata": {},
     "output_type": "execute_result"
    }
   ],
   "source": [
    "combined_markdown = \"\\n\\n\".join([result.data.research_title, result.data.research_main, result.data.research_numbers, result.data.research_bullets])\n",
    "Markdown(combined_markdown)"
   ]
  },
  {
   "cell_type": "markdown",
   "metadata": {},
   "source": [
    "## Research Without using Date"
   ]
  },
  {
   "cell_type": "code",
   "execution_count": 23,
   "metadata": {},
   "outputs": [
    {
     "name": "stdout",
     "output_type": "stream",
     "text": [
      "Search query 1: latest AI news December 2024\n",
      "Search query 2: AI technology developments December 2024\n",
      "Search query 3: artificial intelligence research updates December 2024\n",
      "Search query 4: recent advancements in AI December 2024\n"
     ]
    }
   ],
   "source": [
    "result = await research_agent.run(\n",
    "    'What is the latest AI News?', deps=deps\n",
    ")"
   ]
  },
  {
   "cell_type": "code",
   "execution_count": 24,
   "metadata": {},
   "outputs": [
    {
     "name": "stdout",
     "output_type": "stream",
     "text": [
      "research_title='Latest Developments in AI: December 2024' research_main=\"December 2024 has seen numerous advancements and discussions in the field of artificial intelligence, ranging from technological breakthroughs to regulatory challenges. A significant highlight includes the continued evolution of large language models (LLMs) like Google’s Gemini and Claude by Anthropic, although achieving artificial general intelligence (AGI) remains elusive. Multimodal AI, leveraging various modes of input beyond text, is gaining traction, highlighting potential future interactions.\\n\\nAI's integration across various industries continues to accelerate. Specialized AI applications are being developed tailored to specific sectors, reflecting a shift from general-purpose to more targeted solutions. The year has witnessed rapid deployment of AI technologies, transforming sectors like healthcare, where AI breakthroughs are catalyzing innovation.\\n\\nRegulatory frameworks are evolving as governments react to AI's expanding influence. Australia’s introduction of new AI oversight rules epitomizes the global trend toward increased regulation. AI’s role in elections and media authenticity detection is a growing concern, particularly in the context of upcoming global elections, underscoring the importance of trust and verification in digital content.\\n\\nOn the technological front, new tools like PanoRadar enhance robotic capabilities by providing superhuman vision, and AI-driven mobile robots demonstrate remarkable efficiency in conducting research and development tasks. Enterprises are also heavily investing in AI to redefine productivity and operational efficiency.\\n\\nOverall, AI remains a transformative force in technology, as it continuously reshapes societal structures, industries, and the ethical landscape.\" research_numbers='- Funding for AI safety startups, like SSI, has reached $1 billion in 2024.\\n- AI is extensively deployed across industries, with significant innovations in generative AI and multimodal AI gaining momentum.\\n- Australia is implementing new AI oversight rules to adapt to rapid technological advancements.' research_bullets='- Google and Anthropic enhance LLM capabilities; AGI development requires further strides.\\n- Multimodal AI is emerging, allowing interactions beyond text-based inputs.\\n- Sectors like healthcare are rapidly integrating AI, leading to groundbreaking innovations.\\n- Australia introduces AI oversight regulations, reflecting growing governmental involvement.\\n- Technological advancements include superhuman vision tools for robots and efficient AI-driven mobile robots.'\n"
     ]
    }
   ],
   "source": [
    "print(result.data)"
   ]
  },
  {
   "cell_type": "markdown",
   "metadata": {},
   "source": [
    "## Research With Date in System Prompt"
   ]
  },
  {
   "cell_type": "code",
   "execution_count": 26,
   "metadata": {},
   "outputs": [],
   "source": [
    "@research_agent.system_prompt\n",
    "async def add_current_date(ctx: RunContext[ResearchDependencies]) -> str:\n",
    "    todays_date = ctx.deps.todays_date\n",
    "    system_prompt=f'Your a helpful research assistant, you are an expert in research \\\n",
    "                If you are given a question you write strong keywords to do 3-5 searches in total \\\n",
    "                (each with a query_number) and then combine the results \\\n",
    "                if you need todays date it is {todays_date}'\n",
    "    return system_prompt"
   ]
  },
  {
   "cell_type": "code",
   "execution_count": 27,
   "metadata": {},
   "outputs": [
    {
     "name": "stdout",
     "output_type": "stream",
     "text": [
      "Search query 1: major AI libraries releases November December 2024\n",
      "Search query 2: new AI libraries November December 2024\n",
      "Search query 3: latest AI libraries 2024\n"
     ]
    }
   ],
   "source": [
    "result = await research_agent.run(\n",
    "    'What are the major AI libraries released in the last few weeks?', deps=deps\n",
    ")"
   ]
  },
  {
   "cell_type": "code",
   "execution_count": 28,
   "metadata": {},
   "outputs": [
    {
     "name": "stdout",
     "output_type": "stream",
     "text": [
      "research_title='Recent Releases of Major AI Libraries (November-December 2024)' research_main=\"Recent months have seen significant advancements and releases of AI libraries that are contributing to the ongoing evolution of artificial intelligence technologies. Notably, December 2024 marked the accelerated integration of AWS Trainium accelerators within JAX, enhancing its utility and flexibility in AI infrastructure by democratizing machine learning capabilities. This integration provides developers with more portability and choices in deploying machine learning models.\\n\\nFurther enhancement in AI functionalities can be seen with OpenAI's imminent release of the Orion AI model, which is expected to become available in December 2024. Orion promises significant improvements, potentially offering up to 100 times the power of GPT-4. This continuation of expansion demonstrates a profound push toward more powerful AI models available for developers.\\n\\nIn 2024, legacy libraries such as TensorFlow and PyTorch continue to dominate the machine learning landscape, providing robust frameworks that support a wide range of AI applications. Each offers unique capabilities and remains critical for the development of sophisticated AI models.\\n\\nAmidst the technological advancements, industry experts recommend developers to stay engaged with AI news and blogs to harness the full potential of these evolving tools.\" research_numbers=\"- TensorFlow and PyTorch are documented as the dominant AI libraries in 2024.\\n- OpenAI's Orion is posited to be up to 100 times more powerful than GPT-4.\\n- AI libraries have seen continued innovation with approximately $13.8 billion in AI-focused investments projected by Gen AI reports.\" research_bullets=\"- A new AI library integration involves AWS Trainium accelerators into JAX, enhancing AI model portability and choice.\\n- OpenAI's Orion model is set for release in December 2024, expected to exceed earlier models like GPT-4 in power.\\n- TensorFlow and PyTorch remain dominant AI libraries, critical for developing AI models in 2024.\\n- The AI ecosystem in 2024 shifts rapidly, with substantial emphasis on staying updated with industry trends to leverage emerging tools effectively.\"\n"
     ]
    }
   ],
   "source": [
    "print(result.data)"
   ]
  },
  {
   "cell_type": "code",
   "execution_count": 29,
   "metadata": {},
   "outputs": [
    {
     "name": "stdout",
     "output_type": "stream",
     "text": [
      "#Recent Releases of Major AI Libraries (November-December 2024)\n"
     ]
    }
   ],
   "source": [
    "result.data.research_title = '#'+result.data.research_title\n",
    "print(result.data.research_title)"
   ]
  },
  {
   "cell_type": "code",
   "execution_count": 30,
   "metadata": {},
   "outputs": [
    {
     "name": "stdout",
     "output_type": "stream",
     "text": [
      "Recent months have seen significant advancements and releases of AI libraries that are contributing to the ongoing evolution of artificial intelligence technologies. Notably, December 2024 marked the accelerated integration of AWS Trainium accelerators within JAX, enhancing its utility and flexibility in AI infrastructure by democratizing machine learning capabilities. This integration provides developers with more portability and choices in deploying machine learning models.\n",
      "\n",
      "Further enhancement in AI functionalities can be seen with OpenAI's imminent release of the Orion AI model, which is expected to become available in December 2024. Orion promises significant improvements, potentially offering up to 100 times the power of GPT-4. This continuation of expansion demonstrates a profound push toward more powerful AI models available for developers.\n",
      "\n",
      "In 2024, legacy libraries such as TensorFlow and PyTorch continue to dominate the machine learning landscape, providing robust frameworks that support a wide range of AI applications. Each offers unique capabilities and remains critical for the development of sophisticated AI models.\n",
      "\n",
      "Amidst the technological advancements, industry experts recommend developers to stay engaged with AI news and blogs to harness the full potential of these evolving tools.\n"
     ]
    }
   ],
   "source": [
    "print(result.data.research_main)"
   ]
  },
  {
   "cell_type": "code",
   "execution_count": 31,
   "metadata": {},
   "outputs": [
    {
     "name": "stdout",
     "output_type": "stream",
     "text": [
      "- TensorFlow and PyTorch are documented as the dominant AI libraries in 2024.\n",
      "- OpenAI's Orion is posited to be up to 100 times more powerful than GPT-4.\n",
      "- AI libraries have seen continued innovation with approximately $13.8 billion in AI-focused investments projected by Gen AI reports.\n"
     ]
    }
   ],
   "source": [
    "print(result.data.research_numbers)"
   ]
  },
  {
   "cell_type": "code",
   "execution_count": 32,
   "metadata": {},
   "outputs": [
    {
     "name": "stdout",
     "output_type": "stream",
     "text": [
      "- A new AI library integration involves AWS Trainium accelerators into JAX, enhancing AI model portability and choice.\n",
      "- OpenAI's Orion model is set for release in December 2024, expected to exceed earlier models like GPT-4 in power.\n",
      "- TensorFlow and PyTorch remain dominant AI libraries, critical for developing AI models in 2024.\n",
      "- The AI ecosystem in 2024 shifts rapidly, with substantial emphasis on staying updated with industry trends to leverage emerging tools effectively.\n"
     ]
    }
   ],
   "source": [
    "print(result.data.research_bullets)"
   ]
  },
  {
   "cell_type": "code",
   "execution_count": 33,
   "metadata": {},
   "outputs": [
    {
     "data": {
      "text/markdown": [
       "#Recent Releases of Major AI Libraries (November-December 2024)\n",
       "\n",
       "Recent months have seen significant advancements and releases of AI libraries that are contributing to the ongoing evolution of artificial intelligence technologies. Notably, December 2024 marked the accelerated integration of AWS Trainium accelerators within JAX, enhancing its utility and flexibility in AI infrastructure by democratizing machine learning capabilities. This integration provides developers with more portability and choices in deploying machine learning models.\n",
       "\n",
       "Further enhancement in AI functionalities can be seen with OpenAI's imminent release of the Orion AI model, which is expected to become available in December 2024. Orion promises significant improvements, potentially offering up to 100 times the power of GPT-4. This continuation of expansion demonstrates a profound push toward more powerful AI models available for developers.\n",
       "\n",
       "In 2024, legacy libraries such as TensorFlow and PyTorch continue to dominate the machine learning landscape, providing robust frameworks that support a wide range of AI applications. Each offers unique capabilities and remains critical for the development of sophisticated AI models.\n",
       "\n",
       "Amidst the technological advancements, industry experts recommend developers to stay engaged with AI news and blogs to harness the full potential of these evolving tools.\n",
       "\n",
       "- TensorFlow and PyTorch are documented as the dominant AI libraries in 2024.\n",
       "- OpenAI's Orion is posited to be up to 100 times more powerful than GPT-4.\n",
       "- AI libraries have seen continued innovation with approximately $13.8 billion in AI-focused investments projected by Gen AI reports.\n",
       "\n",
       "- A new AI library integration involves AWS Trainium accelerators into JAX, enhancing AI model portability and choice.\n",
       "- OpenAI's Orion model is set for release in December 2024, expected to exceed earlier models like GPT-4 in power.\n",
       "- TensorFlow and PyTorch remain dominant AI libraries, critical for developing AI models in 2024.\n",
       "- The AI ecosystem in 2024 shifts rapidly, with substantial emphasis on staying updated with industry trends to leverage emerging tools effectively."
      ],
      "text/plain": [
       "<IPython.core.display.Markdown object>"
      ]
     },
     "execution_count": 33,
     "metadata": {},
     "output_type": "execute_result"
    }
   ],
   "source": [
    "combined_markdown = \"\\n\\n\".join([result.data.research_title, result.data.research_main, result.data.research_numbers, result.data.research_bullets])\n",
    "Markdown(combined_markdown)"
   ]
  }
 ],
 "metadata": {
  "kernelspec": {
   "display_name": "base",
   "language": "python",
   "name": "python3"
  },
  "language_info": {
   "codemirror_mode": {
    "name": "ipython",
    "version": 3
   },
   "file_extension": ".py",
   "mimetype": "text/x-python",
   "name": "python",
   "nbconvert_exporter": "python",
   "pygments_lexer": "ipython3",
   "version": "3.12.4"
  }
 },
 "nbformat": 4,
 "nbformat_minor": 2
}
