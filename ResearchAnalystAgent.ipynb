{
 "cells": [
  {
   "cell_type": "code",
   "execution_count": 1,
   "metadata": {},
   "outputs": [
    {
     "data": {
      "text/plain": [
       "True"
      ]
     },
     "execution_count": 1,
     "metadata": {},
     "output_type": "execute_result"
    }
   ],
   "source": [
    "import os\n",
    "from dotenv import load_dotenv\n",
    "load_dotenv(\"keys.env\")"
   ]
  },
  {
   "cell_type": "code",
   "execution_count": 2,
   "metadata": {},
   "outputs": [],
   "source": [
    "OPENAI_API_KEY = os.environ[\"OPENAI_API_KEY\"]\n",
    "TAVILY_API_KEY = os.environ[\"TAVILY_SEARCH_API_KEY\"]"
   ]
  },
  {
   "cell_type": "code",
   "execution_count": 3,
   "metadata": {},
   "outputs": [
    {
     "name": "stdout",
     "output_type": "stream",
     "text": [
      "[{'title': 'PydanticAI Introduction: What is PydanticAI about', 'url': 'https://aipure.ai/products/pydantic-ai/introduction', 'content': \"PydanticAI is a Python Agent Framework that streamlines the development of production-grade AI applications by combining Pydantic's powerful data validation with LLM integration, offering type-safe dependency injection and model-agnostic support. PydanticAI is an innovative agent framework developed by the team behind Pydantic, designed to simplify the process of building production-grade applications with Generative AI. The framework also supports streamed responses and can validate structured responses using Pydantic models, making it particularly powerful for complex AI applications that require reliable data handling. CopilotForXcode is an Xcode Source Editor Extension that integrates GitHub Copilot, Codeium, and ChatGPT to provide AI-powered code suggestions, chat assistance, and prompt-to-code functionality within Xcode. BLACKBOX AI is an AI-powered coding assistant that helps developers write, debug, and optimize code faster through code generation, chat, and search capabilities.\", 'score': 0.99987566, 'raw_content': None}, {'title': 'Meet PydanticAI: A New Python-based Agent Framework to Build Production ...', 'url': 'https://www.marktechpost.com/2024/12/02/meet-pydanticai-a-new-python-based-agent-framework-to-build-production-grade-llm-powered-applications/', 'content': 'Meet PydanticAI: A New Python-based Agent Framework to Build Production-Grade LLM-Powered Applications Building large language model (LLM)-powered applications for real-world production scenarios is challenging. PydanticAI is a new Python-based agent framework designed to build production-grade LLM-powered applications. It is model-agnostic, allowing developers to use various LLMs while benefiting from Pydantic’s robust type-safe response validation. The framework aims to help developers create reliable and scalable LLM-based applications by offering features that support the entire application development lifecycle, particularly in production settings. Its combination of type-safe validation, model-agnostic flexibility, and tools for testing and monitoring addresses key challenges in building LLM-powered applications. As the demand for AI-driven solutions continues to grow, frameworks like PydanticAI play an important role in enabling these applications to be developed safely, reliably, and efficiently.', 'score': 0.99985576, 'raw_content': None}, {'title': 'Agent Framework / shim to use Pydantic with LLMs - GitHub', 'url': 'https://github.com/pydantic/pydantic-ai', 'content': \"GitHub - pydantic/pydantic-ai: Agent Framework / shim to use Pydantic with LLMs Agent Framework / shim to use Pydantic with LLMs Agent Framework / shim to use Pydantic with LLMs PydanticAI is a Python Agent Framework designed to make it less painful to build production grade applications with Generative AI. from pydantic_ai import Agent Here is a concise example using PydanticAI to build a support agent for a bank: from pydantic_ai import Agent, RunContext This pydantic model defines the structure of the result returned by the agent. In this case, the support agent has type Agent[SupportDependencies, SupportResult]. @support_agent.system_prompt result = await support_agent.run('What is my balance?', deps=deps) result = await support_agent.run('I just lost my card!', deps=deps) Agent Framework / shim to use Pydantic with LLMs\", 'score': 0.9997086, 'raw_content': None}]\n"
     ]
    }
   ],
   "source": [
    "from tavily import TavilyClient, AsyncTavilyClient\n",
    "tavily_client = AsyncTavilyClient(api_key=TAVILY_API_KEY)\n",
    "\n",
    "# Sample Search\n",
    "response = await tavily_client.search(\"What is PydanticAI?\", max_results=3)\n",
    "print(response['results'])"
   ]
  },
  {
   "cell_type": "code",
   "execution_count": null,
   "metadata": {},
   "outputs": [],
   "source": [
    "from __future__ import annotations as _annotations\n",
    "\n",
    "import asyncio\n",
    "from dataclasses import dataclass\n",
    "from typing import Any\n",
    "\n",
    "from devtools import debug\n",
    "from httpx import AsyncClient\n",
    "import datetime\n",
    "from typing_extensions import TypeAlias\n",
    "from pydantic_ai import Agent, ModelRetry, RunContext\n",
    "from pydantic import BaseModel, Field\n",
    "from pydantic import field_validator, ValidationError\n",
    "import pandas as pd\n",
    "from typing import Any, List, Dict\n",
    "from typing import Annotated, Union\n",
    "import pandas as pd\n",
    "import ast \n"
   ]
  },
  {
   "cell_type": "markdown",
   "metadata": {},
   "source": [
    "## Dependecy and Response Classes"
   ]
  },
  {
   "cell_type": "code",
   "execution_count": 21,
   "metadata": {},
   "outputs": [],
   "source": [
    "@dataclass\n",
    "class SearchDataclass:\n",
    "    max_results: int\n",
    "    todays_date: str\n",
    "\n",
    "@dataclass\n",
    "class ResearchDependencies:\n",
    "    todays_date: str\n",
    "\n",
    "class ResearchTable(BaseModel):\n",
    "    \"\"\"Response when dictionary for Dataframe could be successfully generated.\"\"\"\n",
    "    dictionary: str = Field(description='This is a python dictory which represents a Pandas Dataframe of the requested topic. Name the columns based on the research topic and results.')\n",
    "\n",
    "\n",
    "class InvalidTable(BaseModel):\n",
    "    \"\"\"Response when the user's research query result could't be put into a Dataframe\"\"\"\n",
    "    error_message: str\n",
    "\n",
    "Response: TypeAlias = Union[ResearchTable, InvalidTable]\n"
   ]
  },
  {
   "cell_type": "markdown",
   "metadata": {},
   "source": [
    "## Agent Creation"
   ]
  },
  {
   "cell_type": "code",
   "execution_count": 95,
   "metadata": {},
   "outputs": [],
   "source": [
    "research_analyst_agent = Agent('openai:gpt-4o',\n",
    "                     deps_type=ResearchDependencies,\n",
    "                     result_type=Response,\n",
    "                     system_prompt=\"\"\"You are a helpful research analyst assistant, you are an expert in researching data insights.\n",
    "                     If you are given a question you write strong keywords to do 3-5 searches in total.\n",
    "                     (each with a query_number) and then combine the results to give me a python dictionary which will represent a dataframe of the results.\"\"\" )"
   ]
  },
  {
   "cell_type": "code",
   "execution_count": 23,
   "metadata": {},
   "outputs": [],
   "source": [
    "current_date = datetime.date.today()\n",
    "date_string = current_date.strftime(\"%Y-%m-%d\")\n",
    "deps = SearchDataclass(max_results=3, todays_date=date_string)"
   ]
  },
  {
   "cell_type": "markdown",
   "metadata": {},
   "source": [
    "## Result Validator"
   ]
  },
  {
   "cell_type": "code",
   "execution_count": 24,
   "metadata": {},
   "outputs": [],
   "source": [
    "@research_analyst_agent.result_validator\n",
    "async def validate_result(ctx: RunContext[ResearchDependencies], result: Response) -> Response:\n",
    "    if isinstance(result, InvalidTable):\n",
    "        return result\n",
    "\n",
    "    if not result.dictionary.startswith('{'):\n",
    "        raise ModelRetry('Please return a dictionary for the Dataframe to be created.')\n",
    "\n",
    "    try:\n",
    "        ast.literal_eval(result.dictionary)\n",
    "    except Exception as e:\n",
    "        raise ModelRetry(f'Invalid dictionary: {e}') from e\n",
    "    else:\n",
    "        return result"
   ]
  },
  {
   "cell_type": "markdown",
   "metadata": {},
   "source": [
    "## Running queries to get results"
   ]
  },
  {
   "cell_type": "code",
   "execution_count": null,
   "metadata": {},
   "outputs": [],
   "source": [
    "result1 = await research_analyst_agent.run(\n",
    "    'What are the top 5 edtech companies in India?', deps=deps\n",
    ")"
   ]
  },
  {
   "cell_type": "code",
   "execution_count": 27,
   "metadata": {},
   "outputs": [],
   "source": [
    "data_dict = ast.literal_eval(result1.data.dictionary)"
   ]
  },
  {
   "cell_type": "code",
   "execution_count": 29,
   "metadata": {},
   "outputs": [
    {
     "data": {
      "text/html": [
       "<div>\n",
       "<style scoped>\n",
       "    .dataframe tbody tr th:only-of-type {\n",
       "        vertical-align: middle;\n",
       "    }\n",
       "\n",
       "    .dataframe tbody tr th {\n",
       "        vertical-align: top;\n",
       "    }\n",
       "\n",
       "    .dataframe thead th {\n",
       "        text-align: right;\n",
       "    }\n",
       "</style>\n",
       "<table border=\"1\" class=\"dataframe\">\n",
       "  <thead>\n",
       "    <tr style=\"text-align: right;\">\n",
       "      <th></th>\n",
       "      <th>Company</th>\n",
       "      <th>Description</th>\n",
       "    </tr>\n",
       "  </thead>\n",
       "  <tbody>\n",
       "    <tr>\n",
       "      <th>0</th>\n",
       "      <td>Byju's</td>\n",
       "      <td>Largest edtech company in India, offering onli...</td>\n",
       "    </tr>\n",
       "    <tr>\n",
       "      <th>1</th>\n",
       "      <td>Unacademy</td>\n",
       "      <td>Online learning platform for various competiti...</td>\n",
       "    </tr>\n",
       "    <tr>\n",
       "      <th>2</th>\n",
       "      <td>Toppr</td>\n",
       "      <td>Educational app providing online classes and l...</td>\n",
       "    </tr>\n",
       "    <tr>\n",
       "      <th>3</th>\n",
       "      <td>Vedantu</td>\n",
       "      <td>Interactive online tutoring platform for K-12 ...</td>\n",
       "    </tr>\n",
       "    <tr>\n",
       "      <th>4</th>\n",
       "      <td>UpGrad</td>\n",
       "      <td>Higher education and upskilling platform offer...</td>\n",
       "    </tr>\n",
       "  </tbody>\n",
       "</table>\n",
       "</div>"
      ],
      "text/plain": [
       "     Company                                        Description\n",
       "0     Byju's  Largest edtech company in India, offering onli...\n",
       "1  Unacademy  Online learning platform for various competiti...\n",
       "2      Toppr  Educational app providing online classes and l...\n",
       "3    Vedantu  Interactive online tutoring platform for K-12 ...\n",
       "4     UpGrad  Higher education and upskilling platform offer..."
      ]
     },
     "execution_count": 29,
     "metadata": {},
     "output_type": "execute_result"
    }
   ],
   "source": [
    "df = pd.DataFrame(data_dict)\n",
    "df"
   ]
  },
  {
   "cell_type": "code",
   "execution_count": 92,
   "metadata": {},
   "outputs": [],
   "source": [
    "result2 = await research_analyst_agent.run(\n",
    "    'What is the year on year revenue of the Edtech industry in India for the past 5 years?', deps=deps\n",
    ")"
   ]
  },
  {
   "cell_type": "code",
   "execution_count": 94,
   "metadata": {},
   "outputs": [
    {
     "data": {
      "text/html": [
       "<div>\n",
       "<style scoped>\n",
       "    .dataframe tbody tr th:only-of-type {\n",
       "        vertical-align: middle;\n",
       "    }\n",
       "\n",
       "    .dataframe tbody tr th {\n",
       "        vertical-align: top;\n",
       "    }\n",
       "\n",
       "    .dataframe thead th {\n",
       "        text-align: right;\n",
       "    }\n",
       "</style>\n",
       "<table border=\"1\" class=\"dataframe\">\n",
       "  <thead>\n",
       "    <tr style=\"text-align: right;\">\n",
       "      <th></th>\n",
       "      <th>Year</th>\n",
       "      <th>Revenue (in billion USD)</th>\n",
       "    </tr>\n",
       "  </thead>\n",
       "  <tbody>\n",
       "    <tr>\n",
       "      <th>0</th>\n",
       "      <td>2018</td>\n",
       "      <td>0.247</td>\n",
       "    </tr>\n",
       "    <tr>\n",
       "      <th>1</th>\n",
       "      <td>2019</td>\n",
       "      <td>0.735</td>\n",
       "    </tr>\n",
       "    <tr>\n",
       "      <th>2</th>\n",
       "      <td>2020</td>\n",
       "      <td>2.800</td>\n",
       "    </tr>\n",
       "    <tr>\n",
       "      <th>3</th>\n",
       "      <td>2021</td>\n",
       "      <td>4.200</td>\n",
       "    </tr>\n",
       "    <tr>\n",
       "      <th>4</th>\n",
       "      <td>2022</td>\n",
       "      <td>5.750</td>\n",
       "    </tr>\n",
       "  </tbody>\n",
       "</table>\n",
       "</div>"
      ],
      "text/plain": [
       "   Year  Revenue (in billion USD)\n",
       "0  2018                     0.247\n",
       "1  2019                     0.735\n",
       "2  2020                     2.800\n",
       "3  2021                     4.200\n",
       "4  2022                     5.750"
      ]
     },
     "execution_count": 94,
     "metadata": {},
     "output_type": "execute_result"
    }
   ],
   "source": [
    "data_dict = ast.literal_eval(result2.data.dictionary)\n",
    "df = pd.DataFrame(data_dict)\n",
    "df"
   ]
  },
  {
   "cell_type": "markdown",
   "metadata": {},
   "source": [
    "## Validation Testing"
   ]
  },
  {
   "cell_type": "code",
   "execution_count": 96,
   "metadata": {},
   "outputs": [],
   "source": [
    "# If result is not a dataframe\n",
    "result2 = await research_analyst_agent.run(\n",
    "    'What is the revenue of x,y,z', deps=deps\n",
    ")"
   ]
  },
  {
   "cell_type": "code",
   "execution_count": 98,
   "metadata": {},
   "outputs": [
    {
     "data": {
      "text/plain": [
       "InvalidTable(error_message=\"The request is ambiguous. Please clarify what 'x, y, z' refers to, so I can conduct a precise search.\")"
      ]
     },
     "execution_count": 98,
     "metadata": {},
     "output_type": "execute_result"
    }
   ],
   "source": [
    "result2.data"
   ]
  },
  {
   "cell_type": "code",
   "execution_count": null,
   "metadata": {},
   "outputs": [],
   "source": []
  }
 ],
 "metadata": {
  "kernelspec": {
   "display_name": "base",
   "language": "python",
   "name": "python3"
  },
  "language_info": {
   "codemirror_mode": {
    "name": "ipython",
    "version": 3
   },
   "file_extension": ".py",
   "mimetype": "text/x-python",
   "name": "python",
   "nbconvert_exporter": "python",
   "pygments_lexer": "ipython3",
   "version": "3.12.4"
  }
 },
 "nbformat": 4,
 "nbformat_minor": 2
}
