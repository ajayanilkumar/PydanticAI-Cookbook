{
 "cells": [
  {
   "cell_type": "code",
   "execution_count": 28,
   "metadata": {},
   "outputs": [
    {
     "data": {
      "text/plain": [
       "True"
      ]
     },
     "execution_count": 28,
     "metadata": {},
     "output_type": "execute_result"
    }
   ],
   "source": [
    "import os\n",
    "from dotenv import load_dotenv\n",
    "load_dotenv(\"keys.env\")"
   ]
  },
  {
   "cell_type": "code",
   "execution_count": 29,
   "metadata": {},
   "outputs": [],
   "source": [
    "OPENAI_API_KEY = os.environ[\"OPENAI_API_KEY\"]\n",
    "TAVILY_API_KEY = os.environ[\"TAVILY_SEARCH_API_KEY\"]"
   ]
  },
  {
   "cell_type": "code",
   "execution_count": 30,
   "metadata": {},
   "outputs": [],
   "source": [
    "from tavily import TavilyClient, AsyncTavilyClient\n",
    "tavily_client = AsyncTavilyClient(api_key=TAVILY_API_KEY)\n",
    "\n",
    "# Sample Search\n",
    "# response = await tavily_client.search(\"What is PydanticAI?\", max_results=3)\n",
    "# print(response['results'])"
   ]
  },
  {
   "cell_type": "code",
   "execution_count": 31,
   "metadata": {},
   "outputs": [],
   "source": [
    "from __future__ import annotations as _annotations\n",
    "\n",
    "import asyncio\n",
    "from dataclasses import dataclass\n",
    "from typing import Any\n",
    "\n",
    "from devtools import debug\n",
    "from httpx import AsyncClient\n",
    "import datetime\n",
    "from typing_extensions import TypeAlias\n",
    "from pydantic_ai import Agent, ModelRetry, RunContext\n",
    "from pydantic import BaseModel, Field\n",
    "from pydantic import field_validator, ValidationError\n",
    "import pandas as pd\n",
    "from typing import Any, List, Dict\n",
    "from typing import Annotated, Union\n",
    "import pandas as pd\n",
    "import ast \n"
   ]
  },
  {
   "cell_type": "markdown",
   "metadata": {},
   "source": [
    "## Dependecy and Response Classes"
   ]
  },
  {
   "cell_type": "code",
   "execution_count": 32,
   "metadata": {},
   "outputs": [],
   "source": [
    "@dataclass\n",
    "class SearchDataclass:\n",
    "    max_results: int\n",
    "    todays_date: str\n",
    "\n",
    "@dataclass\n",
    "class ResearchDependencies:\n",
    "    todays_date: str\n",
    "\n",
    "class ResearchTable(BaseModel):\n",
    "    \"\"\"Response when dictionary for Dataframe could be successfully generated.\"\"\"\n",
    "    dictionary: str = Field(description='This is a python dictory which represents a Pandas Dataframe of the requested topic. Name the columns based on the research topic and results.')\n",
    "\n",
    "\n",
    "class InvalidTable(BaseModel):\n",
    "    \"\"\"Response when the user's research query result could't be put into a Dataframe\"\"\"\n",
    "    error_message: str\n",
    "\n",
    "Response: TypeAlias = Union[ResearchTable, InvalidTable]\n"
   ]
  },
  {
   "cell_type": "markdown",
   "metadata": {},
   "source": [
    "## Agent Creation"
   ]
  },
  {
   "cell_type": "code",
   "execution_count": 33,
   "metadata": {},
   "outputs": [],
   "source": [
    "research_analyst_agent = Agent('openai:gpt-4o',\n",
    "                     deps_type=ResearchDependencies,\n",
    "                     result_type=Response,\n",
    "                     system_prompt=\"\"\"You are a helpful research analyst assistant, you are an expert in researching data insights.\n",
    "                     If you are given a question you write strong keywords to do 3-5 searches in total.\n",
    "                     (each with a query_number) and then combine the results to give me a python dictionary which will represent a dataframe of the results.\"\"\" )"
   ]
  },
  {
   "cell_type": "code",
   "execution_count": 34,
   "metadata": {},
   "outputs": [],
   "source": [
    "@research_analyst_agent.tool #Tavily\n",
    "async def get_search(search_data:RunContext[SearchDataclass],query: str, query_number: int) -> dict[str, Any]:\n",
    "    \"\"\"Get the search for a keyword query.\n",
    "\n",
    "    Args:\n",
    "        query: keywords to search.\n",
    "    \"\"\"\n",
    "    print(f\"Search query {query_number}: {query}\")\n",
    "    max_results = search_data.deps.max_results\n",
    "    results = await tavily_client.get_search_context(query=query, max_results=max_results)\n",
    "\n",
    "    return results"
   ]
  },
  {
   "cell_type": "code",
   "execution_count": 35,
   "metadata": {},
   "outputs": [],
   "source": [
    "@research_analyst_agent.system_prompt\n",
    "async def add_current_date(ctx: RunContext[ResearchDependencies]) -> str:\n",
    "    todays_date = ctx.deps.todays_date\n",
    "    system_prompt=f\"\"\"You are a helpful research analyst assistant, you are an expert in researching data insights.\n",
    "                     If you are given a question you write strong keywords to do 3-5 searches in total.\n",
    "                     (each with a query_number) and then combine the results to give me a python dictionary which will represent a dataframe of the results.\n",
    "                    if you need todays date it is {todays_date}\"\"\"\n",
    "    return system_prompt"
   ]
  },
  {
   "cell_type": "code",
   "execution_count": 36,
   "metadata": {},
   "outputs": [],
   "source": [
    "current_date = datetime.date.today()\n",
    "date_string = current_date.strftime(\"%Y-%m-%d\")\n",
    "deps = SearchDataclass(max_results=3, todays_date=date_string)"
   ]
  },
  {
   "cell_type": "markdown",
   "metadata": {},
   "source": [
    "## Result Validator"
   ]
  },
  {
   "cell_type": "code",
   "execution_count": 37,
   "metadata": {},
   "outputs": [],
   "source": [
    "@research_analyst_agent.result_validator\n",
    "async def validate_result(ctx: RunContext[ResearchDependencies], result: Response) -> Response:\n",
    "    if isinstance(result, InvalidTable):\n",
    "        return result\n",
    "\n",
    "    if not result.dictionary.startswith('{'):\n",
    "        raise ModelRetry('Please return a dictionary for the Dataframe to be created.')\n",
    "\n",
    "    try:\n",
    "        data = ast.literal_eval(result.dictionary)\n",
    "        dataframe = pd.DataFrame(data)\n",
    "    except Exception as e:\n",
    "        raise ModelRetry(f'Invalid dictionary: {e}') from e\n",
    "    else:\n",
    "        return dataframe"
   ]
  },
  {
   "cell_type": "markdown",
   "metadata": {},
   "source": [
    "## Running queries to get results"
   ]
  },
  {
   "cell_type": "code",
   "execution_count": 38,
   "metadata": {},
   "outputs": [
    {
     "name": "stdout",
     "output_type": "stream",
     "text": [
      "Search query 1: top edtech companies in India 2024\n",
      "Search query 2: leading education technology firms in India\n",
      "Search query 3: best edtech companies India 2024\n"
     ]
    }
   ],
   "source": [
    "result1 = await research_analyst_agent.run(\n",
    "    'What are the top 5 edtech companies in India?', deps=deps\n",
    ")"
   ]
  },
  {
   "cell_type": "code",
   "execution_count": 39,
   "metadata": {},
   "outputs": [
    {
     "data": {
      "text/html": [
       "<div>\n",
       "<style scoped>\n",
       "    .dataframe tbody tr th:only-of-type {\n",
       "        vertical-align: middle;\n",
       "    }\n",
       "\n",
       "    .dataframe tbody tr th {\n",
       "        vertical-align: top;\n",
       "    }\n",
       "\n",
       "    .dataframe thead th {\n",
       "        text-align: right;\n",
       "    }\n",
       "</style>\n",
       "<table border=\"1\" class=\"dataframe\">\n",
       "  <thead>\n",
       "    <tr style=\"text-align: right;\">\n",
       "      <th></th>\n",
       "      <th>Company Name</th>\n",
       "      <th>Headquarters</th>\n",
       "      <th>Funding Raised (USD Million)</th>\n",
       "      <th>Description</th>\n",
       "      <th>Industry Impact</th>\n",
       "    </tr>\n",
       "  </thead>\n",
       "  <tbody>\n",
       "    <tr>\n",
       "      <th>0</th>\n",
       "      <td>BYJU'S</td>\n",
       "      <td>Bangalore</td>\n",
       "      <td>2200</td>\n",
       "      <td>BYJU’S is an educational technology company th...</td>\n",
       "      <td>BYJU’S has over 100 million registered users.</td>\n",
       "    </tr>\n",
       "    <tr>\n",
       "      <th>1</th>\n",
       "      <td>Vedantu</td>\n",
       "      <td>Bangalore</td>\n",
       "      <td>NA</td>\n",
       "      <td>Vedantu is an online tutoring platform connect...</td>\n",
       "      <td>Vedantu offers interactive courses for K-12.</td>\n",
       "    </tr>\n",
       "    <tr>\n",
       "      <th>2</th>\n",
       "      <td>Classplus</td>\n",
       "      <td>Gurugram</td>\n",
       "      <td>NA</td>\n",
       "      <td>Classplus is a platform that allows teachers a...</td>\n",
       "      <td>Classplus empowers educators to create custom ...</td>\n",
       "    </tr>\n",
       "    <tr>\n",
       "      <th>3</th>\n",
       "      <td>Extramarks</td>\n",
       "      <td>Noida</td>\n",
       "      <td>NA</td>\n",
       "      <td>Extramarks provides learning solutions for K-1...</td>\n",
       "      <td>Extramarks focuses on comprehensive learning e...</td>\n",
       "    </tr>\n",
       "    <tr>\n",
       "      <th>4</th>\n",
       "      <td>Imarticus Learning</td>\n",
       "      <td>Mumbai</td>\n",
       "      <td>NA</td>\n",
       "      <td>Imarticus Learning offers virtual education pl...</td>\n",
       "      <td>Imarticus focuses on upskilling in various pro...</td>\n",
       "    </tr>\n",
       "  </tbody>\n",
       "</table>\n",
       "</div>"
      ],
      "text/plain": [
       "         Company Name Headquarters Funding Raised (USD Million)  \\\n",
       "0              BYJU'S    Bangalore                         2200   \n",
       "1             Vedantu    Bangalore                           NA   \n",
       "2           Classplus     Gurugram                           NA   \n",
       "3          Extramarks        Noida                           NA   \n",
       "4  Imarticus Learning       Mumbai                           NA   \n",
       "\n",
       "                                         Description  \\\n",
       "0  BYJU’S is an educational technology company th...   \n",
       "1  Vedantu is an online tutoring platform connect...   \n",
       "2  Classplus is a platform that allows teachers a...   \n",
       "3  Extramarks provides learning solutions for K-1...   \n",
       "4  Imarticus Learning offers virtual education pl...   \n",
       "\n",
       "                                     Industry Impact  \n",
       "0      BYJU’S has over 100 million registered users.  \n",
       "1       Vedantu offers interactive courses for K-12.  \n",
       "2  Classplus empowers educators to create custom ...  \n",
       "3  Extramarks focuses on comprehensive learning e...  \n",
       "4  Imarticus focuses on upskilling in various pro...  "
      ]
     },
     "execution_count": 39,
     "metadata": {},
     "output_type": "execute_result"
    }
   ],
   "source": [
    "result1.data"
   ]
  },
  {
   "cell_type": "code",
   "execution_count": 49,
   "metadata": {},
   "outputs": [
    {
     "name": "stdout",
     "output_type": "stream",
     "text": [
      "Search query 1: 2024 Edtech market share top countries\n",
      "Search query 2: Edtech industry market share by country 2024\n",
      "Search query 3: Top countries in Edtech market 2024\n"
     ]
    }
   ],
   "source": [
    "result2 = await research_analyst_agent.run(\n",
    "    'What is the market share of Edtech by top 5 countries?', deps=deps\n",
    ")"
   ]
  },
  {
   "cell_type": "code",
   "execution_count": 50,
   "metadata": {},
   "outputs": [
    {
     "data": {
      "text/html": [
       "<div>\n",
       "<style scoped>\n",
       "    .dataframe tbody tr th:only-of-type {\n",
       "        vertical-align: middle;\n",
       "    }\n",
       "\n",
       "    .dataframe tbody tr th {\n",
       "        vertical-align: top;\n",
       "    }\n",
       "\n",
       "    .dataframe thead th {\n",
       "        text-align: right;\n",
       "    }\n",
       "</style>\n",
       "<table border=\"1\" class=\"dataframe\">\n",
       "  <thead>\n",
       "    <tr style=\"text-align: right;\">\n",
       "      <th></th>\n",
       "      <th>Country</th>\n",
       "      <th>Market Share 2024 (in USD Millions)</th>\n",
       "      <th>CAGR (%) 2024-2031</th>\n",
       "    </tr>\n",
       "  </thead>\n",
       "  <tbody>\n",
       "    <tr>\n",
       "      <th>0</th>\n",
       "      <td>USA</td>\n",
       "      <td>82240.00</td>\n",
       "      <td>13.9</td>\n",
       "    </tr>\n",
       "    <tr>\n",
       "      <th>1</th>\n",
       "      <td>India</td>\n",
       "      <td>3969.30</td>\n",
       "      <td>17.8</td>\n",
       "    </tr>\n",
       "    <tr>\n",
       "      <th>2</th>\n",
       "      <td>Japan</td>\n",
       "      <td>4564.69</td>\n",
       "      <td>14.5</td>\n",
       "    </tr>\n",
       "    <tr>\n",
       "      <th>3</th>\n",
       "      <td>China</td>\n",
       "      <td>25000.00</td>\n",
       "      <td>15.2</td>\n",
       "    </tr>\n",
       "    <tr>\n",
       "      <th>4</th>\n",
       "      <td>United Kingdom</td>\n",
       "      <td>8500.00</td>\n",
       "      <td>12.3</td>\n",
       "    </tr>\n",
       "  </tbody>\n",
       "</table>\n",
       "</div>"
      ],
      "text/plain": [
       "          Country  Market Share 2024 (in USD Millions)  CAGR (%) 2024-2031\n",
       "0             USA                             82240.00                13.9\n",
       "1           India                              3969.30                17.8\n",
       "2           Japan                              4564.69                14.5\n",
       "3           China                             25000.00                15.2\n",
       "4  United Kingdom                              8500.00                12.3"
      ]
     },
     "execution_count": 50,
     "metadata": {},
     "output_type": "execute_result"
    }
   ],
   "source": [
    "result2.data"
   ]
  }
 ],
 "metadata": {
  "kernelspec": {
   "display_name": "base",
   "language": "python",
   "name": "python3"
  },
  "language_info": {
   "codemirror_mode": {
    "name": "ipython",
    "version": 3
   },
   "file_extension": ".py",
   "mimetype": "text/x-python",
   "name": "python",
   "nbconvert_exporter": "python",
   "pygments_lexer": "ipython3",
   "version": "3.12.4"
  }
 },
 "nbformat": 4,
 "nbformat_minor": 2
}
